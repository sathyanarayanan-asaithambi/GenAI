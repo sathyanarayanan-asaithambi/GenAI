{
  "cells": [
    {
      "cell_type": "markdown",
      "metadata": {
        "id": "bbQs5KdZaV60"
      },
      "source": [
        "# TensorFlow and Keras"
      ]
    },
    {
      "cell_type": "code",
      "execution_count": null,
      "metadata": {
        "id": "MdFClBkGaV61"
      },
      "outputs": [],
      "source": [
        "#Uncomment and use it\n",
        "#!pip install tensorflow"
      ]
    },
    {
      "cell_type": "code",
      "execution_count": null,
      "metadata": {
        "id": "80YPYWr-aV61"
      },
      "outputs": [],
      "source": [
        "import tensorflow as tf\n",
        "%matplotlib inline"
      ]
    },
    {
      "cell_type": "markdown",
      "metadata": {
        "id": "1WmlDQUpaV61"
      },
      "source": [
        "## Tensors"
      ]
    },
    {
      "cell_type": "markdown",
      "metadata": {
        "id": "bXMPC4gDaV62"
      },
      "source": [
        "#### Constants"
      ]
    },
    {
      "cell_type": "markdown",
      "metadata": {
        "id": "W2JDGNfuaV62"
      },
      "source": [
        "tf.constant creates constant values, these values do not change\n",
        "or update during optimization process(training phase)"
      ]
    },
    {
      "cell_type": "code",
      "execution_count": null,
      "metadata": {
        "id": "CdZJcbhQaV62"
      },
      "outputs": [],
      "source": [
        "a = tf.constant([50,10])\n",
        "print(a)"
      ]
    },
    {
      "cell_type": "markdown",
      "metadata": {
        "id": "GY8fJXxMaV62"
      },
      "source": [
        "Few things that we can do with the tensors at the runtime:\n",
        "1. Directly get a numpy value of the tensor\n",
        "2. dtype : data type of the tensor(int16/int32/float32/float64)\n",
        "3. shape: shape of the tensor"
      ]
    },
    {
      "cell_type": "code",
      "execution_count": null,
      "metadata": {
        "id": "Q56LCEXRaV62"
      },
      "outputs": [],
      "source": [
        "print('a in tensorflow ==>', a)\n",
        "print('numpy value of a ==>', a.numpy())\n",
        "print('dtype of a ==>', a.dtype)\n",
        "print('shape of a ==>', a.shape)"
      ]
    },
    {
      "cell_type": "markdown",
      "metadata": {
        "id": "n7qv8cMCaV62"
      },
      "source": [
        "We can use inbuild tf.XX() function to create constant tensors, just like numpy."
      ]
    },
    {
      "cell_type": "code",
      "execution_count": null,
      "metadata": {
        "id": "6RiPHVsJaV62"
      },
      "outputs": [],
      "source": [
        "print('Tensor of Ones: \\n',tf.ones(shape=(2, 2)))\n",
        "print('Tensor of Zeros: \\n',tf.zeros(shape=(2, 2)))\n",
        "print('Random normal values \\n', tf.random.normal(shape=(3, 2),\n",
        "                                                  mean=5,\n",
        "                                                  stddev=1))"
      ]
    },
    {
      "cell_type": "markdown",
      "metadata": {
        "id": "dsYxxhbPaV62"
      },
      "source": [
        "### Variables"
      ]
    },
    {
      "cell_type": "markdown",
      "metadata": {
        "id": "1gDWZoc2aV63"
      },
      "source": [
        "We generally create a variable with some values, call it initialized values,\n",
        "convert this constant tensor into a variable and then mutate the variable by using special functions."
      ]
    },
    {
      "cell_type": "code",
      "execution_count": null,
      "metadata": {
        "id": "q0ONZDKxaV63"
      },
      "outputs": [],
      "source": [
        "x = tf.Variable(5) # Simple variable\n",
        "print(x)"
      ]
    },
    {
      "cell_type": "code",
      "execution_count": null,
      "metadata": {
        "id": "LYnJaPStaV63"
      },
      "outputs": [],
      "source": [
        "#randomly initialized variable, like we need for our weights\n",
        "w = tf.Variable(tf.random.normal(shape=(2, 2)))\n",
        "print(w)"
      ]
    },
    {
      "cell_type": "code",
      "execution_count": null,
      "metadata": {
        "id": "rMt7OkxIaV63"
      },
      "outputs": [],
      "source": [
        "m = tf.Variable(5) # Simple variable\n",
        "print(m)\n",
        "\n",
        "m = tf.Variable(5)\n",
        "print('New value', m.assign(2))\n",
        "\n",
        "m = tf.Variable(5)\n",
        "print('increment by 1', m.assign_add(1))\n",
        "\n",
        "m = tf.Variable(5)\n",
        "print('Decrement by 2', m.assign_sub(2))\n"
      ]
    },
    {
      "cell_type": "markdown",
      "metadata": {
        "id": "d1Q5AcIdaV63"
      },
      "source": [
        "### Regression Model building in TensorFlow"
      ]
    },
    {
      "cell_type": "markdown",
      "metadata": {
        "id": "Q1IILg7XaV63"
      },
      "source": [
        "#This step is for data creation, x and y"
      ]
    },
    {
      "cell_type": "code",
      "execution_count": null,
      "metadata": {
        "id": "4zd3ibhnaV63"
      },
      "outputs": [],
      "source": [
        "#This step is for data creation, x and y\n",
        "import numpy as np\n",
        "x_train= np.array(range(5000,5100)).reshape(-1,1)\n",
        "\n",
        "\n",
        "y_train=[3*i+np.random.normal(500, 10) for i in x_train]\n",
        "\n",
        "import matplotlib.pyplot as plt\n",
        "plt.title(\"x_train vs y_train data\")\n",
        "plt.plot(x_train, y_train, 'b.')\n",
        "plt.show()"
      ]
    },
    {
      "cell_type": "code",
      "execution_count": null,
      "metadata": {
        "id": "0Kp_swL9aV63"
      },
      "outputs": [],
      "source": [
        "#Model y=X*W + b\n",
        "#Model function\n",
        "def output(x):\n",
        "    return W*x + b\n",
        "\n",
        "#Loss function Reduce mean square\n",
        "def loss_function(y_pred, y_true):\n",
        "    return tf.reduce_mean(tf.square(y_pred - y_true))\n",
        "\n",
        "#Initialize Weights\n",
        "W = tf.Variable(tf.random.uniform(shape=(1, 1)))\n",
        "b = tf.Variable(tf.ones(shape=(1,)))\n",
        "\n",
        "#Optimization\n",
        "## Writing training/learing loop with GradienTape\n",
        "learning_rate = 0.000000001\n",
        "steps = 200 #epochs\n",
        "\n",
        "for i in range(steps):\n",
        "    with tf.GradientTape() as tape:\n",
        "        predictions = output(x_train)\n",
        "        loss = loss_function(predictions,y_train)\n",
        "        dloss_dw, dloss_db = tape.gradient(loss, [W, b])\n",
        "    W.assign_sub(learning_rate * dloss_dw)\n",
        "    b.assign_sub(learning_rate * dloss_db)\n",
        "    print(f\"epoch : {i}, loss  {loss.numpy()},  W : {W.numpy()}, b  {b.numpy()}\")"
      ]
    },
    {
      "cell_type": "markdown",
      "metadata": {
        "id": "no1-E9blaV63"
      },
      "source": [
        "Final Weights"
      ]
    },
    {
      "cell_type": "code",
      "execution_count": null,
      "metadata": {
        "id": "bWACr_eCaV63"
      },
      "outputs": [],
      "source": [
        "print('w ', W)\n",
        "print('b ', b)"
      ]
    },
    {
      "cell_type": "markdown",
      "metadata": {
        "id": "loSJL0OvaV63"
      },
      "source": [
        "Plotting"
      ]
    },
    {
      "cell_type": "code",
      "execution_count": null,
      "metadata": {
        "id": "CjwY-DXOaV63"
      },
      "outputs": [],
      "source": [
        "#Initialize Weights\n",
        "W = tf.Variable(tf.random.uniform(shape=(1, 1)))\n",
        "b = tf.Variable(tf.ones(shape=(1,)))\n",
        "\n",
        "#Optimization\n",
        "## Writing training/learing loop with GradienTape\n",
        "learning_rate = 0.000000001\n",
        "steps = 200 #epochs\n",
        "\n",
        "for i in range(steps):\n",
        "    with tf.GradientTape() as tape:\n",
        "        predictions = output(x_train)\n",
        "        loss = loss_function(predictions,y_train)\n",
        "        dloss_dw, dloss_db = tape.gradient(loss, [W, b])\n",
        "    W.assign_sub(learning_rate * dloss_dw)\n",
        "    b.assign_sub(learning_rate * dloss_db)\n",
        "    if i%30 == 0:\n",
        "        print(f\"epoch is: {i}, loss is {loss.numpy()},  W is: {W.numpy()}, b is {b.numpy()}\")\n",
        "        plt.title([\"epoch\", i])\n",
        "        plt.plot(x_train, y_train, 'b.')\n",
        "        plt.plot(x_train, output(x_train), c='r')\n",
        "        plt.show()"
      ]
    },
    {
      "cell_type": "markdown",
      "metadata": {
        "id": "CNefKuYYaV64"
      },
      "source": [
        "### Logistic Regression Model building in TensorFlow"
      ]
    },
    {
      "cell_type": "code",
      "execution_count": null,
      "metadata": {
        "id": "aR25fSXRaV64"
      },
      "outputs": [],
      "source": [
        "# This step is for data creation\n",
        "x_train= np.random.rand(100,1)\n",
        "y_train=np.array([0 if i < 0.5 else 1 for i in x_train]).reshape(-1,1)\n",
        "\n",
        "import matplotlib.pyplot as plt\n",
        "plt.title(\"x_train vs y_train data\")\n",
        "plt.plot(x_train, y_train, 'b.',)\n",
        "plt.show()"
      ]
    },
    {
      "cell_type": "code",
      "execution_count": null,
      "metadata": {
        "id": "_Bln1IZHaV64"
      },
      "outputs": [],
      "source": [
        "#Model y=sigmoid(X*W + b)\n",
        "# same as the linear regression just sigmoid wrapped around the linear equation\n",
        "def output(x):\n",
        "    return tf.sigmoid(W*x + b)\n",
        "\n",
        "#Loss function : sum of squares\n",
        "def loss_function(y_pred, y_true):\n",
        "    return tf.reduce_sum(tf.square(y_pred - y_true))\n",
        "\n",
        "#Initialize Weights\n",
        "W = tf.Variable(tf.random.uniform(shape=(1, 1)))\n",
        "b = tf.Variable(tf.zeros(shape=(1,)))\n",
        "\n",
        "## Optimization\n",
        "learning_rate = 0.1\n",
        "steps = 300 #epochs\n",
        "\n",
        "for i in range(steps):\n",
        "    with tf.GradientTape() as tape:\n",
        "        predictions = output(x_train)\n",
        "        loss = loss_function(y_train, predictions)\n",
        "        dloss_dw, dloss_db = tape.gradient(loss, [W, b])\n",
        "    W.assign_sub(learning_rate * dloss_dw)\n",
        "    b.assign_sub(learning_rate * dloss_db)\n",
        "    print(f\"epoch : {i}, loss  {loss.numpy()},  W : {W.numpy()}, b  {b.numpy()}\")"
      ]
    },
    {
      "cell_type": "markdown",
      "metadata": {
        "id": "RXrIfDt2aV64"
      },
      "source": [
        "Plotting"
      ]
    },
    {
      "cell_type": "code",
      "execution_count": null,
      "metadata": {
        "id": "PzTTLAn_aV64"
      },
      "outputs": [],
      "source": [
        "#Model y=X*W + b\n",
        "# same as the linear regression just sigmoid wrapped around the linear equation\n",
        "def output(x):\n",
        "    return tf.sigmoid(W*x + b)\n",
        "\n",
        "#Loss function : sum of squares\n",
        "def loss_function(y_pred, y_true):\n",
        "    return tf.reduce_sum(tf.square(y_pred - y_true))\n",
        "\n",
        "#Initialize Weights\n",
        "W = tf.Variable(tf.random.uniform(shape=(1, 1)))\n",
        "b = tf.Variable(tf.zeros(shape=(1,)))\n",
        "\n",
        "## Optimization\n",
        "learning_rate = 0.1\n",
        "steps = 300 #epochs\n",
        "\n",
        "for i in range(steps):\n",
        "    with tf.GradientTape() as tape:\n",
        "        predictions = output(x_train)\n",
        "        loss = loss_function(y_train, predictions)\n",
        "        dloss_dw, dloss_db = tape.gradient(loss, [W, b])\n",
        "    W.assign_sub(learning_rate * dloss_dw)\n",
        "    b.assign_sub(learning_rate * dloss_db)\n",
        "\n",
        "    if i%40 == 0:\n",
        "        print(f\"epoch is: {i}, loss is {loss.numpy()},  W is: {W.numpy()}, b is {b.numpy()}\")\n",
        "        plt.title([\"epoch\", i])\n",
        "        plt.plot(x_train, y_train, 'b+')\n",
        "        plt.plot(x_train, output(x_train), '.', c='r')\n",
        "        plt.show()"
      ]
    },
    {
      "cell_type": "markdown",
      "metadata": {
        "id": "AyNxJsmeaV64"
      },
      "source": [
        "# Keras"
      ]
    },
    {
      "cell_type": "code",
      "execution_count": 1,
      "metadata": {
        "id": "-5lTMtufaV64"
      },
      "outputs": [],
      "source": [
        "from tensorflow import keras\n",
        "from tensorflow.keras import layers\n",
        "from tensorflow.keras.models import Sequential\n",
        "from tensorflow.keras.layers import Dense, Input"
      ]
    },
    {
      "cell_type": "code",
      "execution_count": 2,
      "metadata": {
        "id": "otURmpNdaV64",
        "outputId": "886092d0-7d04-4040-d981-134e766b0ca5",
        "colab": {
          "base_uri": "https://localhost:8080/"
        }
      },
      "outputs": [
        {
          "output_type": "stream",
          "name": "stdout",
          "text": [
            "Downloading data from https://storage.googleapis.com/tensorflow/tf-keras-datasets/mnist.npz\n",
            "\u001b[1m11490434/11490434\u001b[0m \u001b[32m━━━━━━━━━━━━━━━━━━━━\u001b[0m\u001b[37m\u001b[0m \u001b[1m0s\u001b[0m 0us/step\n",
            "(60000, 784) train input samples\n",
            "(10000, 784) test input samples\n",
            "(60000, 10) train output samples\n",
            "(10000, 10) test output samples\n"
          ]
        }
      ],
      "source": [
        "## The data, shuffled and split between train and test sets\n",
        "(X_train, Y_train), (X_test, Y_test) = keras.datasets.mnist.load_data()\n",
        "num_classes=10\n",
        "x_train = X_train.reshape(60000, 784)\n",
        "x_test = X_test.reshape(10000, 784)\n",
        "x_train = x_train.astype('float32')\n",
        "x_test = x_test.astype('float32')\n",
        "x_train /= 255\n",
        "x_test /= 255\n",
        "\n",
        "## Convert class vectors to binary class matrices\n",
        "y_train = keras.utils.to_categorical(Y_train, num_classes)\n",
        "y_test = keras.utils.to_categorical(Y_test, num_classes)\n",
        "\n",
        "print(x_train.shape, 'train input samples')\n",
        "print(x_test.shape, 'test input samples')\n",
        "\n",
        "print(y_train.shape, 'train output samples')\n",
        "print(y_test.shape, 'test output samples')"
      ]
    },
    {
      "cell_type": "code",
      "execution_count": 3,
      "metadata": {
        "id": "Cx4VVTzHaV64",
        "outputId": "6c43e7b8-60d6-437c-9613-b297983c18ce",
        "colab": {
          "base_uri": "https://localhost:8080/",
          "height": 432
        }
      },
      "outputs": [
        {
          "output_type": "display_data",
          "data": {
            "text/plain": [
              "<Figure size 640x480 with 4 Axes>"
            ],
            "image/png": "[encoded data removed]"
          },
          "metadata": {}
        }
      ],
      "source": [
        "# Plot 4 images as gray scale\n",
        "\n",
        "%matplotlib inline\n",
        "import matplotlib.pyplot as plt\n",
        "plt.subplot(221)\n",
        "plt.imshow(X_train[1], cmap=plt.get_cmap('gray'))\n",
        "plt.subplot(222)\n",
        "plt.imshow(X_train[6], cmap=plt.get_cmap('gray'))\n",
        "plt.subplot(223)\n",
        "plt.imshow(X_train[7], cmap=plt.get_cmap('gray'))\n",
        "plt.subplot(224)\n",
        "plt.imshow(X_train[9], cmap=plt.get_cmap('gray'))\n",
        "\n",
        "# show the plot\n",
        "plt.show()"
      ]
    },
    {
      "cell_type": "code",
      "execution_count": 14,
      "metadata": {
        "id": "oFDg2h0qaV65",
        "outputId": "fdce2369-b7ce-4c6e-f88b-3cfccc9d9ebe",
        "colab": {
          "base_uri": "https://localhost:8080/",
          "height": 238
        }
      },
      "outputs": [
        {
          "output_type": "display_data",
          "data": {
            "text/plain": [
              "\u001b[1mModel: \"sequential_4\"\u001b[0m\n"
            ],
            "text/html": [
              "<pre style=\"white-space:pre;overflow-x:auto;line-height:normal;font-family:Menlo,'DejaVu Sans Mono',consolas,'Courier New',monospace\"><span style=\"font-weight: bold\">Model: \"sequential_4\"</span>\n",
              "</pre>\n"
            ]
          },
          "metadata": {}
        },
        {
          "output_type": "display_data",
          "data": {
            "text/plain": [
              "┏━━━━━━━━━━━━━━━━━━━━━━━━━━━━━━━━━┳━━━━━━━━━━━━━━━━━━━━━━━━┳━━━━━━━━━━━━━━━┓\n",
              "┃\u001b[1m \u001b[0m\u001b[1mLayer (type)                   \u001b[0m\u001b[1m \u001b[0m┃\u001b[1m \u001b[0m\u001b[1mOutput Shape          \u001b[0m\u001b[1m \u001b[0m┃\u001b[1m \u001b[0m\u001b[1m      Param #\u001b[0m\u001b[1m \u001b[0m┃\n",
              "┡━━━━━━━━━━━━━━━━━━━━━━━━━━━━━━━━━╇━━━━━━━━━━━━━━━━━━━━━━━━╇━━━━━━━━━━━━━━━┩\n",
              "│ dense_12 (\u001b[38;5;33mDense\u001b[0m)                │ (\u001b[38;5;45mNone\u001b[0m, \u001b[38;5;34m10000\u001b[0m)          │     \u001b[38;5;34m7,850,000\u001b[0m │\n",
              "├─────────────────────────────────┼────────────────────────┼───────────────┤\n",
              "│ dense_13 (\u001b[38;5;33mDense\u001b[0m)                │ (\u001b[38;5;45mNone\u001b[0m, \u001b[38;5;34m20\u001b[0m)             │       \u001b[38;5;34m200,020\u001b[0m │\n",
              "├─────────────────────────────────┼────────────────────────┼───────────────┤\n",
              "│ dense_14 (\u001b[38;5;33mDense\u001b[0m)                │ (\u001b[38;5;45mNone\u001b[0m, \u001b[38;5;34m10\u001b[0m)             │           \u001b[38;5;34m210\u001b[0m │\n",
              "└─────────────────────────────────┴────────────────────────┴───────────────┘\n"
            ],
            "text/html": [
              "<pre style=\"white-space:pre;overflow-x:auto;line-height:normal;font-family:Menlo,'DejaVu Sans Mono',consolas,'Courier New',monospace\">┏━━━━━━━━━━━━━━━━━━━━━━━━━━━━━━━━━┳━━━━━━━━━━━━━━━━━━━━━━━━┳━━━━━━━━━━━━━━━┓\n",
              "┃<span style=\"font-weight: bold\"> Layer (type)                    </span>┃<span style=\"font-weight: bold\"> Output Shape           </span>┃<span style=\"font-weight: bold\">       Param # </span>┃\n",
              "┡━━━━━━━━━━━━━━━━━━━━━━━━━━━━━━━━━╇━━━━━━━━━━━━━━━━━━━━━━━━╇━━━━━━━━━━━━━━━┩\n",
              "│ dense_12 (<span style=\"color: #0087ff; text-decoration-color: #0087ff\">Dense</span>)                │ (<span style=\"color: #00d7ff; text-decoration-color: #00d7ff\">None</span>, <span style=\"color: #00af00; text-decoration-color: #00af00\">10000</span>)          │     <span style=\"color: #00af00; text-decoration-color: #00af00\">7,850,000</span> │\n",
              "├─────────────────────────────────┼────────────────────────┼───────────────┤\n",
              "│ dense_13 (<span style=\"color: #0087ff; text-decoration-color: #0087ff\">Dense</span>)                │ (<span style=\"color: #00d7ff; text-decoration-color: #00d7ff\">None</span>, <span style=\"color: #00af00; text-decoration-color: #00af00\">20</span>)             │       <span style=\"color: #00af00; text-decoration-color: #00af00\">200,020</span> │\n",
              "├─────────────────────────────────┼────────────────────────┼───────────────┤\n",
              "│ dense_14 (<span style=\"color: #0087ff; text-decoration-color: #0087ff\">Dense</span>)                │ (<span style=\"color: #00d7ff; text-decoration-color: #00d7ff\">None</span>, <span style=\"color: #00af00; text-decoration-color: #00af00\">10</span>)             │           <span style=\"color: #00af00; text-decoration-color: #00af00\">210</span> │\n",
              "└─────────────────────────────────┴────────────────────────┴───────────────┘\n",
              "</pre>\n"
            ]
          },
          "metadata": {}
        },
        {
          "output_type": "display_data",
          "data": {
            "text/plain": [
              "\u001b[1m Total params: \u001b[0m\u001b[38;5;34m8,050,230\u001b[0m (30.71 MB)\n"
            ],
            "text/html": [
              "<pre style=\"white-space:pre;overflow-x:auto;line-height:normal;font-family:Menlo,'DejaVu Sans Mono',consolas,'Courier New',monospace\"><span style=\"font-weight: bold\"> Total params: </span><span style=\"color: #00af00; text-decoration-color: #00af00\">8,050,230</span> (30.71 MB)\n",
              "</pre>\n"
            ]
          },
          "metadata": {}
        },
        {
          "output_type": "display_data",
          "data": {
            "text/plain": [
              "\u001b[1m Trainable params: \u001b[0m\u001b[38;5;34m8,050,230\u001b[0m (30.71 MB)\n"
            ],
            "text/html": [
              "<pre style=\"white-space:pre;overflow-x:auto;line-height:normal;font-family:Menlo,'DejaVu Sans Mono',consolas,'Courier New',monospace\"><span style=\"font-weight: bold\"> Trainable params: </span><span style=\"color: #00af00; text-decoration-color: #00af00\">8,050,230</span> (30.71 MB)\n",
              "</pre>\n"
            ]
          },
          "metadata": {}
        },
        {
          "output_type": "display_data",
          "data": {
            "text/plain": [
              "\u001b[1m Non-trainable params: \u001b[0m\u001b[38;5;34m0\u001b[0m (0.00 B)\n"
            ],
            "text/html": [
              "<pre style=\"white-space:pre;overflow-x:auto;line-height:normal;font-family:Menlo,'DejaVu Sans Mono',consolas,'Courier New',monospace\"><span style=\"font-weight: bold\"> Non-trainable params: </span><span style=\"color: #00af00; text-decoration-color: #00af00\">0</span> (0.00 B)\n",
              "</pre>\n"
            ]
          },
          "metadata": {}
        }
      ],
      "source": [
        "model = keras.Sequential()\n",
        "model.add(layers.Input(shape=(784,)))\n",
        "#Input Layer. The model needs to know what input shape it should expect.\n",
        "#For this reason, the first layer in a Sequential model needs to receive information about its input shape.\n",
        "#Only the first need the snape information, because following layers can do automatic shape inference\n",
        "model.add(layers.Dense(10000, activation='sigmoid')) #, input_shape=(784,)))\n",
        "\n",
        "#The dense layer is simply a layer where each unit or neuron is connected to each neuron in the next layer.\n",
        "model.add(layers.Dense(20, activation='sigmoid'))\n",
        "\n",
        "#In the final layer mention the output classes\n",
        "model.add(layers.Dense(10, activation='softmax'))\n",
        "\n",
        "#Model Summary\n",
        "model.summary()"
      ]
    },
    {
      "cell_type": "code",
      "execution_count": 15,
      "metadata": {
        "id": "21w4MomwaV65",
        "outputId": "2be73d0e-54b1-43de-aa2b-361998367cf8",
        "colab": {
          "base_uri": "https://localhost:8080/"
        }
      },
      "outputs": [
        {
          "output_type": "stream",
          "name": "stdout",
          "text": [
            "Epoch 1/10\n",
            "\u001b[1m1875/1875\u001b[0m \u001b[32m━━━━━━━━━━━━━━━━━━━━\u001b[0m\u001b[37m\u001b[0m \u001b[1m8s\u001b[0m 3ms/step - accuracy: 0.1074 - loss: 2.3332\n",
            "Epoch 2/10\n",
            "\u001b[1m1875/1875\u001b[0m \u001b[32m━━━━━━━━━━━━━━━━━━━━\u001b[0m\u001b[37m\u001b[0m \u001b[1m6s\u001b[0m 3ms/step - accuracy: 0.1132 - loss: 2.3020\n",
            "Epoch 3/10\n",
            "\u001b[1m1875/1875\u001b[0m \u001b[32m━━━━━━━━━━━━━━━━━━━━\u001b[0m\u001b[37m\u001b[0m \u001b[1m6s\u001b[0m 3ms/step - accuracy: 0.1093 - loss: 2.3029\n",
            "Epoch 4/10\n",
            "\u001b[1m1875/1875\u001b[0m \u001b[32m━━━━━━━━━━━━━━━━━━━━\u001b[0m\u001b[37m\u001b[0m \u001b[1m6s\u001b[0m 3ms/step - accuracy: 0.1084 - loss: 2.3021\n",
            "Epoch 5/10\n",
            "\u001b[1m1875/1875\u001b[0m \u001b[32m━━━━━━━━━━━━━━━━━━━━\u001b[0m\u001b[37m\u001b[0m \u001b[1m10s\u001b[0m 3ms/step - accuracy: 0.1083 - loss: 2.3023\n",
            "Epoch 6/10\n",
            "\u001b[1m1875/1875\u001b[0m \u001b[32m━━━━━━━━━━━━━━━━━━━━\u001b[0m\u001b[37m\u001b[0m \u001b[1m10s\u001b[0m 3ms/step - accuracy: 0.1137 - loss: 2.3021\n",
            "Epoch 7/10\n",
            "\u001b[1m1875/1875\u001b[0m \u001b[32m━━━━━━━━━━━━━━━━━━━━\u001b[0m\u001b[37m\u001b[0m \u001b[1m10s\u001b[0m 3ms/step - accuracy: 0.1109 - loss: 2.3019\n",
            "Epoch 8/10\n",
            "\u001b[1m1875/1875\u001b[0m \u001b[32m━━━━━━━━━━━━━━━━━━━━\u001b[0m\u001b[37m\u001b[0m \u001b[1m6s\u001b[0m 3ms/step - accuracy: 0.1070 - loss: 2.3022\n",
            "Epoch 9/10\n",
            "\u001b[1m1875/1875\u001b[0m \u001b[32m━━━━━━━━━━━━━━━━━━━━\u001b[0m\u001b[37m\u001b[0m \u001b[1m6s\u001b[0m 3ms/step - accuracy: 0.1114 - loss: 2.3016\n",
            "Epoch 10/10\n",
            "\u001b[1m1875/1875\u001b[0m \u001b[32m━━━━━━━━━━━━━━━━━━━━\u001b[0m\u001b[37m\u001b[0m \u001b[1m10s\u001b[0m 3ms/step - accuracy: 0.1051 - loss: 2.3027\n"
          ]
        },
        {
          "output_type": "execute_result",
          "data": {
            "text/plain": [
              "<keras.src.callbacks.history.History at 0x7a9d00d6b510>"
            ]
          },
          "metadata": {},
          "execution_count": 15
        }
      ],
      "source": [
        "# Compiling model : we define loss function, optimizer and validation matric of our choice\n",
        "model.compile(loss='categorical_crossentropy', metrics=['accuracy'])\n",
        "\n",
        "# Fit method: actually running our model by supplying our input and validation data\n",
        "model.fit(x_train, y_train,epochs=10)"
      ]
    },
    {
      "cell_type": "code",
      "execution_count": 10,
      "metadata": {
        "id": "jFqJYFJeaV65",
        "outputId": "66176a94-400a-4620-93ef-faa605e73fb0",
        "colab": {
          "base_uri": "https://localhost:8080/"
        }
      },
      "outputs": [
        {
          "output_type": "stream",
          "name": "stdout",
          "text": [
            "[array([[ 0.01050957, -0.01651714,  0.01630642, ..., -0.01081923,\n",
            "         0.01946951, -0.01482029],\n",
            "       [ 0.00574484, -0.00833719,  0.01417872, ...,  0.00685047,\n",
            "        -0.01121041, -0.00615513],\n",
            "       [ 0.01059602, -0.01003268,  0.00033385, ...,  0.0140985 ,\n",
            "        -0.00785452, -0.02025485],\n",
            "       ...,\n",
            "       [ 0.01518261,  0.00785415, -0.0150885 , ..., -0.00105142,\n",
            "        -0.01114921, -0.01913077],\n",
            "       [-0.01605198, -0.01461457,  0.01959531, ..., -0.01163534,\n",
            "        -0.01632397, -0.00620443],\n",
            "       [-0.00861726, -0.00751895, -0.00084645, ...,  0.01109236,\n",
            "         0.00906734, -0.0174722 ]], dtype=float32), array([ 0.00024403, -0.00088908,  0.00028288, ...,  0.00080792,\n",
            "       -0.00056146,  0.0008885 ], dtype=float32), array([[-0.00888692,  0.01626699,  0.00279811, ..., -0.00585514,\n",
            "         0.0210625 , -0.02122472],\n",
            "       [-0.00243476,  0.01315714,  0.00573297, ...,  0.0154112 ,\n",
            "         0.01161274,  0.00051648],\n",
            "       [-0.02076432, -0.004855  ,  0.01332997, ..., -0.00078971,\n",
            "         0.01082917,  0.0042444 ],\n",
            "       ...,\n",
            "       [ 0.02016357,  0.01211609,  0.02132821, ...,  0.01822617,\n",
            "        -0.00687177,  0.00889147],\n",
            "       [ 0.01494986, -0.00419305,  0.00316382, ..., -0.00276497,\n",
            "         0.01751373, -0.00849553],\n",
            "       [-0.02648404,  0.01362454,  0.00753247, ...,  0.01110754,\n",
            "         0.00039642, -0.02727917]], dtype=float32), array([-0.00304513, -0.00311557, -0.00312254, -0.0031017 , -0.00309775,\n",
            "       -0.00309352, -0.00311584, -0.00299721, -0.00261636, -0.0030198 ,\n",
            "        0.00019032, -0.00634925, -0.00299973, -0.00270061, -0.00010381,\n",
            "       -0.00305154, -0.00311302, -0.00221469,  0.00307783, -0.00307474],\n",
            "      dtype=float32), array([[ 0.03279551,  0.33931768, -0.05057137, -0.12985931,  0.14875865,\n",
            "        -0.41382375,  0.38013065,  0.18929847,  0.21804915,  0.17741282],\n",
            "       [-0.05666511,  0.18911678,  0.08286946,  0.2438191 ,  0.33992878,\n",
            "        -0.3031469 , -0.17121392,  0.28357208, -0.26026845, -0.39730072],\n",
            "       [-0.04069399, -0.41953102, -0.18528232, -0.6876196 , -0.10733327,\n",
            "         0.05343195, -0.30006278, -0.36130652, -0.5522416 , -0.4628996 ],\n",
            "       [-0.2984487 ,  0.09043072,  0.3505074 , -0.11281519,  0.20086105,\n",
            "         0.23789817,  0.39374703, -0.01800888,  0.34472412,  0.0279149 ],\n",
            "       [ 0.18710402, -0.36256987,  0.395729  , -0.02831149, -0.03704144,\n",
            "         0.11530112, -0.08364865,  0.00664095, -0.3803476 , -0.36230108],\n",
            "       [-0.33164534,  0.4215012 , -0.10058224, -0.01095668,  0.22230823,\n",
            "         0.2724154 ,  0.36226082, -0.26791674, -0.328027  ,  0.18380609],\n",
            "       [ 0.3442329 ,  0.19394884,  0.43841034,  0.43721786,  0.44406936,\n",
            "        -0.43583277, -0.34579632,  0.28966725, -0.3227726 ,  0.1780041 ],\n",
            "       [-0.29878807, -0.4160526 ,  0.32526964, -0.4198809 , -0.07239331,\n",
            "         0.3173705 , -0.04898021,  0.09965592,  0.13290112, -0.24279921],\n",
            "       [-0.14743735,  0.09273883, -0.00187327,  0.32257518, -0.38027948,\n",
            "        -0.20413856, -0.16186725,  0.07506124, -0.34800044, -0.43140396],\n",
            "       [ 0.05461349,  0.20005853, -0.22240143,  0.07905694,  0.03000186,\n",
            "        -0.35375643, -0.33978596, -0.41474283, -0.28369904,  0.19261304],\n",
            "       [-0.04568284, -0.0346935 , -0.1885603 , -0.17214677,  0.31239334,\n",
            "        -0.01042611, -0.03631409,  0.33513954, -0.21551901, -0.06460079],\n",
            "       [-0.3852425 , -0.51082385, -0.3400563 , -0.33744505, -0.01065317,\n",
            "        -0.542055  , -0.52316123,  0.08083922, -0.10957218, -0.1981452 ],\n",
            "       [-0.22143695,  0.23107252, -0.13285261, -0.4261084 ,  0.34968996,\n",
            "        -0.14473608, -0.4016816 , -0.4059922 ,  0.41296914,  0.4281589 ],\n",
            "       [-0.18503775,  0.36426598,  0.41056547, -0.28181648, -0.2051995 ,\n",
            "         0.16171989, -0.38856706,  0.4488312 , -0.00487339, -0.13467653],\n",
            "       [-0.581075  , -0.2192803 , -0.23410358,  0.01758126, -0.3961843 ,\n",
            "        -0.25993136, -0.60122365, -0.27678156, -0.10334024, -0.25351998],\n",
            "       [ 0.01381156, -0.24803077,  0.1985404 , -0.36096922, -0.39162704,\n",
            "        -0.3024556 , -0.07135805, -0.43505457,  0.05874678,  0.10485005],\n",
            "       [-0.00720482, -0.24581045,  0.3175745 , -0.28413823,  0.23952803,\n",
            "        -0.3552844 ,  0.20198555, -0.39049065, -0.09350489,  0.0491835 ],\n",
            "       [ 0.21987647,  0.22999035, -0.28145447, -0.00236561,  0.11768132,\n",
            "        -0.14517845,  0.04883885, -0.02738387, -0.00334374, -0.32251233],\n",
            "       [-0.408083  , -0.12217975, -0.504442  , -0.1265147 , -0.46899134,\n",
            "        -0.6821653 ,  0.05552491, -0.18946397, -0.21061902, -0.2252188 ],\n",
            "       [-0.13607506,  0.01634129, -0.14577825,  0.24631405,  0.33915114,\n",
            "        -0.23748739, -0.41344506, -0.12009288,  0.28913197,  0.13929895]],\n",
            "      dtype=float32), array([-0.15676248, -0.30257073, -0.23993638, -0.3395561 , -0.17666964,\n",
            "       -0.38459352, -0.32067764, -0.299035  , -0.3888482 , -0.22747631],\n",
            "      dtype=float32)]\n"
          ]
        }
      ],
      "source": [
        "print(model.get_weights())"
      ]
    },
    {
      "cell_type": "code",
      "execution_count": 11,
      "metadata": {
        "id": "QDzO1X7oaV65",
        "outputId": "2ec709aa-0b7a-4b53-96f0-a9945353de6d",
        "colab": {
          "base_uri": "https://localhost:8080/"
        }
      },
      "outputs": [
        {
          "output_type": "stream",
          "name": "stdout",
          "text": [
            "313/313 - 1s - 5ms/step - accuracy: 0.1135 - loss: 2.3013\n",
            "Test Accuracy: 11.35%\n"
          ]
        }
      ],
      "source": [
        "loss, acc = model.evaluate(x_test,  y_test, verbose=2)\n",
        "print(\"Test Accuracy: {:5.2f}%\".format(100*acc))"
      ]
    },
    {
      "cell_type": "code",
      "execution_count": null,
      "metadata": {
        "id": "TW1ozPH7aV65"
      },
      "outputs": [],
      "source": []
    }
  ],
  "metadata": {
    "kernelspec": {
      "display_name": "da5401",
      "language": "python",
      "name": "da5401"
    },
    "language_info": {
      "codemirror_mode": {
        "name": "ipython",
        "version": 3
      },
      "file_extension": ".py",
      "mimetype": "text/x-python",
      "name": "python",
      "nbconvert_exporter": "python",
      "pygments_lexer": "ipython3",
      "version": "3.10.16"
    },
    "colab": {
      "provenance": [],
      "gpuType": "T4"
    },
    "accelerator": "GPU"
  },
  "nbformat": 4,
  "nbformat_minor": 0
}